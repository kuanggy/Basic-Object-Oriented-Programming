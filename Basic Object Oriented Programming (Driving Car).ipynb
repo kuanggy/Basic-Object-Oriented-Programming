{
 "cells": [
  {
   "cell_type": "code",
   "execution_count": 1,
   "id": "07b1e36f",
   "metadata": {},
   "outputs": [],
   "source": [
    "class Car:\n",
    "    def __init__(self, car_model = 'Vios', color = 'Grey', engine = \"1.6L\", current_usage=95600., percent_remaining_power = 100.):\n",
    "        self.car_model = car_model\n",
    "        self.color = color\n",
    "        self.engine = engine\n",
    "        self.percent_remaining_power = percent_remaining_power\n",
    "        self.current_usage = current_usage\n",
    "        self.remaining_distance = self.percent_remaining_power*5\n",
    "        self.__display()\n",
    "    \n",
    "    def drive_for(self, distance_driven=0):\n",
    "        final_power_usage = self.percent_remaining_power - (distance_driven/5)\n",
    "        if final_power_usage <= 0:\n",
    "            avai_distance = 5*self.percent_remaining_power\n",
    "            self.percent_remaining_power = 0\n",
    "            self.remaining_distance = 0\n",
    "            self.current_usage += avai_distance\n",
    "            print(f\"Power runs out. No remain power. Please fill up the tank! \\nYour drove for {avai_distance}\")\n",
    "        else:\n",
    "            self.percent_remaining_power = final_power_usage\n",
    "            self.current_usage += distance_driven\n",
    "            self.remaining_distance = self.percent_remaining_power*5\n",
    "            print(f'Your drive for {distance_driven} km. Current Km = {self.current_usage}. Drained {distance_driven/5}% of power \\nYou can drive for {(self.remaining_distance)}')\n",
    "\n",
    "    def fill_tank(self, percent_power=100):\n",
    "        if self.percent_remaining_power < 100:\n",
    "            if (self.percent_remaining_power + percent_power) < 100:\n",
    "                self.remaining_distance = self.remaining_distance + percent_power*5\n",
    "                self.percent_remaining_power = self.percent_remaining_power + percent_power\n",
    "                print(f'Your car have percent power of {self.percent_remaining_power}%. You can drive for {self.remaining_distance} km.')\n",
    "            else:\n",
    "                self.remaining_distance = 500\n",
    "                self.percent_remaining_power = 100\n",
    "                print(f'Your car have percent power of {self.percent_remaining_power}%. You can drive for {self.remaining_distance} km.')\n",
    "        else:\n",
    "            print('Power is full')\n",
    "    \n",
    "    def show_current_stat(self):\n",
    "        print('######################### Your Car Initialized #########################')\n",
    "        print(f'### Model: {self.car_model}')\n",
    "        print(f'### Color: {self.color}')\n",
    "        print(f'### Engine: {self.engine}')\n",
    "        print(f'### Current Mile: {self.current_usage} km')\n",
    "        print(f'### %Remaining Power: {self.percent_remaining_power} %')\n",
    "        print(f'### Available Distance: {self.remaining_distance} km')\n",
    "        print('############################## Let Drive ##############################')\n",
    "            \n",
    "    def __display(self):\n",
    "        print('######################### Your Car Initialized #########################')\n",
    "        print(f'### Model: {self.car_model}')\n",
    "        print(f'### Color: {self.color}')\n",
    "        print(f'### Engine: {self.engine}')\n",
    "        print(f'### Current Mile: {self.current_usage} km')\n",
    "        print(f'### %Remaining Power: {self.percent_remaining_power} %')\n",
    "        print(f'### Available Distance: {self.remaining_distance} km')\n",
    "        print('############################## Let Drive ##############################')"
   ]
  },
  {
   "cell_type": "code",
   "execution_count": 2,
   "id": "b5008837",
   "metadata": {},
   "outputs": [
    {
     "name": "stdout",
     "output_type": "stream",
     "text": [
      "######################### Your Car Initialized #########################\n",
      "### Model: Volvo XC40 Recharge\n",
      "### Color: Blue\n",
      "### Engine: EV\n",
      "### Current Mile: 100.0 km\n",
      "### %Remaining Power: 100.0 %\n",
      "### Available Distance: 500.0 km\n",
      "############################## Let Drive ##############################\n"
     ]
    }
   ],
   "source": [
    "my_car = Car(car_model=\"Volvo XC40 Recharge\", color=\"Blue\", engine=\"EV\", current_usage=100.)"
   ]
  },
  {
   "cell_type": "code",
   "execution_count": 3,
   "id": "08941720",
   "metadata": {},
   "outputs": [
    {
     "data": {
      "text/plain": [
       "'Volvo XC40 Recharge'"
      ]
     },
     "execution_count": 3,
     "metadata": {},
     "output_type": "execute_result"
    }
   ],
   "source": [
    "my_car.car_model"
   ]
  },
  {
   "cell_type": "code",
   "execution_count": 4,
   "id": "5a0e8c92",
   "metadata": {},
   "outputs": [
    {
     "data": {
      "text/plain": [
       "500.0"
      ]
     },
     "execution_count": 4,
     "metadata": {},
     "output_type": "execute_result"
    }
   ],
   "source": [
    "my_car.remaining_distance"
   ]
  },
  {
   "cell_type": "code",
   "execution_count": 5,
   "id": "ade06c1f",
   "metadata": {},
   "outputs": [
    {
     "data": {
      "text/plain": [
       "100.0"
      ]
     },
     "execution_count": 5,
     "metadata": {},
     "output_type": "execute_result"
    }
   ],
   "source": [
    "my_car.percent_remaining_power"
   ]
  },
  {
   "cell_type": "code",
   "execution_count": 6,
   "id": "ff35d200",
   "metadata": {},
   "outputs": [
    {
     "data": {
      "text/plain": [
       "100.0"
      ]
     },
     "execution_count": 6,
     "metadata": {},
     "output_type": "execute_result"
    }
   ],
   "source": [
    "my_car.current_usage"
   ]
  },
  {
   "cell_type": "code",
   "execution_count": 7,
   "id": "37540ef1",
   "metadata": {},
   "outputs": [
    {
     "name": "stdout",
     "output_type": "stream",
     "text": [
      "Your drive for 20 km. Current Km = 120.0. Drained 4.0% of power \n",
      "You can drive for 480.0\n"
     ]
    }
   ],
   "source": [
    "#first drive\n",
    "my_car.drive_for(20)"
   ]
  },
  {
   "cell_type": "code",
   "execution_count": 8,
   "id": "013df653",
   "metadata": {},
   "outputs": [
    {
     "data": {
      "text/plain": [
       "120.0"
      ]
     },
     "execution_count": 8,
     "metadata": {},
     "output_type": "execute_result"
    }
   ],
   "source": [
    "my_car.current_usage"
   ]
  },
  {
   "cell_type": "code",
   "execution_count": 9,
   "id": "03708719",
   "metadata": {},
   "outputs": [
    {
     "data": {
      "text/plain": [
       "96.0"
      ]
     },
     "execution_count": 9,
     "metadata": {},
     "output_type": "execute_result"
    }
   ],
   "source": [
    "my_car.percent_remaining_power"
   ]
  },
  {
   "cell_type": "code",
   "execution_count": 10,
   "id": "bf8fbdc5",
   "metadata": {},
   "outputs": [
    {
     "data": {
      "text/plain": [
       "480.0"
      ]
     },
     "execution_count": 10,
     "metadata": {},
     "output_type": "execute_result"
    }
   ],
   "source": [
    "my_car.remaining_distance"
   ]
  },
  {
   "cell_type": "code",
   "execution_count": 11,
   "id": "20224877",
   "metadata": {},
   "outputs": [
    {
     "data": {
      "text/plain": [
       "'EV'"
      ]
     },
     "execution_count": 11,
     "metadata": {},
     "output_type": "execute_result"
    }
   ],
   "source": [
    "my_car.engine"
   ]
  },
  {
   "cell_type": "code",
   "execution_count": 12,
   "id": "96ecbe4b",
   "metadata": {},
   "outputs": [
    {
     "name": "stdout",
     "output_type": "stream",
     "text": [
      "Your drive for 300 km. Current Km = 420.0. Drained 60.0% of power \n",
      "You can drive for 180.0\n"
     ]
    }
   ],
   "source": [
    "#second drive\n",
    "my_car.drive_for(300)"
   ]
  },
  {
   "cell_type": "code",
   "execution_count": 13,
   "id": "df78af22",
   "metadata": {},
   "outputs": [
    {
     "data": {
      "text/plain": [
       "180.0"
      ]
     },
     "execution_count": 13,
     "metadata": {},
     "output_type": "execute_result"
    }
   ],
   "source": [
    "my_car.remaining_distance"
   ]
  },
  {
   "cell_type": "code",
   "execution_count": 14,
   "id": "e659666d",
   "metadata": {},
   "outputs": [
    {
     "data": {
      "text/plain": [
       "36.0"
      ]
     },
     "execution_count": 14,
     "metadata": {},
     "output_type": "execute_result"
    }
   ],
   "source": [
    "my_car.percent_remaining_power"
   ]
  },
  {
   "cell_type": "code",
   "execution_count": 15,
   "id": "f4ce238c",
   "metadata": {},
   "outputs": [
    {
     "name": "stdout",
     "output_type": "stream",
     "text": [
      "Power runs out. No remain power. Please fill up the tank! \n",
      "Your drove for 180.0\n"
     ]
    }
   ],
   "source": [
    "#third drive\n",
    "my_car.drive_for(200)"
   ]
  },
  {
   "cell_type": "code",
   "execution_count": 16,
   "id": "847186a8",
   "metadata": {},
   "outputs": [
    {
     "data": {
      "text/plain": [
       "600.0"
      ]
     },
     "execution_count": 16,
     "metadata": {},
     "output_type": "execute_result"
    }
   ],
   "source": [
    "my_car.current_usage"
   ]
  },
  {
   "cell_type": "code",
   "execution_count": 17,
   "id": "7102e0e0",
   "metadata": {},
   "outputs": [
    {
     "data": {
      "text/plain": [
       "0"
      ]
     },
     "execution_count": 17,
     "metadata": {},
     "output_type": "execute_result"
    }
   ],
   "source": [
    "my_car.remaining_distance"
   ]
  },
  {
   "cell_type": "code",
   "execution_count": 18,
   "id": "bc5bacb3",
   "metadata": {},
   "outputs": [
    {
     "data": {
      "text/plain": [
       "0"
      ]
     },
     "execution_count": 18,
     "metadata": {},
     "output_type": "execute_result"
    }
   ],
   "source": [
    "my_car.percent_remaining_power"
   ]
  },
  {
   "cell_type": "code",
   "execution_count": 19,
   "id": "143e1a6c",
   "metadata": {},
   "outputs": [
    {
     "name": "stdout",
     "output_type": "stream",
     "text": [
      "Your car have percent power of 20%. You can drive for 100 km.\n"
     ]
    }
   ],
   "source": [
    "my_car.fill_tank(20)"
   ]
  },
  {
   "cell_type": "code",
   "execution_count": 20,
   "id": "55c8a4a1",
   "metadata": {},
   "outputs": [
    {
     "name": "stdout",
     "output_type": "stream",
     "text": [
      "Your car have percent power of 70%. You can drive for 350 km.\n"
     ]
    }
   ],
   "source": [
    "my_car.fill_tank(50)"
   ]
  },
  {
   "cell_type": "code",
   "execution_count": 21,
   "id": "a0a211af",
   "metadata": {},
   "outputs": [
    {
     "name": "stdout",
     "output_type": "stream",
     "text": [
      "Your car have percent power of 100%. You can drive for 500 km.\n"
     ]
    }
   ],
   "source": [
    "my_car.fill_tank(50)"
   ]
  },
  {
   "cell_type": "code",
   "execution_count": 22,
   "id": "7df42e72",
   "metadata": {},
   "outputs": [
    {
     "data": {
      "text/plain": [
       "100"
      ]
     },
     "execution_count": 22,
     "metadata": {},
     "output_type": "execute_result"
    }
   ],
   "source": [
    "my_car.percent_remaining_power"
   ]
  },
  {
   "cell_type": "code",
   "execution_count": 23,
   "id": "7d1d714d",
   "metadata": {},
   "outputs": [
    {
     "data": {
      "text/plain": [
       "500"
      ]
     },
     "execution_count": 23,
     "metadata": {},
     "output_type": "execute_result"
    }
   ],
   "source": [
    "my_car.remaining_distance"
   ]
  },
  {
   "cell_type": "code",
   "execution_count": 24,
   "id": "f0b6b3b5",
   "metadata": {},
   "outputs": [
    {
     "name": "stdout",
     "output_type": "stream",
     "text": [
      "Power is full\n"
     ]
    }
   ],
   "source": [
    "my_car.fill_tank(50)"
   ]
  },
  {
   "cell_type": "code",
   "execution_count": 25,
   "id": "facf0cfa",
   "metadata": {},
   "outputs": [
    {
     "name": "stdout",
     "output_type": "stream",
     "text": [
      "Your drive for 100 km. Current Km = 700.0. Drained 20.0% of power \n",
      "You can drive for 400.0\n"
     ]
    }
   ],
   "source": [
    "#try drive again\n",
    "my_car.drive_for(100)"
   ]
  },
  {
   "cell_type": "code",
   "execution_count": 26,
   "id": "5e1c3c63",
   "metadata": {},
   "outputs": [
    {
     "data": {
      "text/plain": [
       "<__main__.Car at 0x10390a730>"
      ]
     },
     "execution_count": 26,
     "metadata": {},
     "output_type": "execute_result"
    }
   ],
   "source": [
    "my_car"
   ]
  },
  {
   "cell_type": "code",
   "execution_count": 27,
   "id": "cc539ef6",
   "metadata": {},
   "outputs": [
    {
     "name": "stdout",
     "output_type": "stream",
     "text": [
      "######################### Your Car Initialized #########################\n",
      "### Model: Volvo XC40 Recharge\n",
      "### Color: Blue\n",
      "### Engine: EV\n",
      "### Current Mile: 700.0 km\n",
      "### %Remaining Power: 80.0 %\n",
      "### Available Distance: 400.0 km\n",
      "############################## Let Drive ##############################\n"
     ]
    }
   ],
   "source": [
    "my_car.show_current_stat()"
   ]
  }
 ],
 "metadata": {
  "kernelspec": {
   "display_name": "Tensorflow M1",
   "language": "python",
   "name": "tf_m1"
  },
  "language_info": {
   "codemirror_mode": {
    "name": "ipython",
    "version": 3
   },
   "file_extension": ".py",
   "mimetype": "text/x-python",
   "name": "python",
   "nbconvert_exporter": "python",
   "pygments_lexer": "ipython3",
   "version": "3.9.10"
  }
 },
 "nbformat": 4,
 "nbformat_minor": 5
}
